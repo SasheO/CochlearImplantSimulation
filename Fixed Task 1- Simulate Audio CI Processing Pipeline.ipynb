{
 "cells": [
  {
   "cell_type": "markdown",
   "id": "51f23404",
   "metadata": {},
   "source": [
    "## Helpful links\n",
    "follow this (signal processing portion): https://app.box.com/file/1283099900531\n",
    "\n",
    "signal filtering (very helpful): https://swharden.com/blog/2020-09-23-signal-filtering-in-python/\n",
    "\n",
    "Python toolbox: https://github.com/jabeim/AB-Generic-Python-Toolbox/blob/master/Documentation%20__draft__v0.1.docx\n",
    "\n",
    "Google research code: https://gitlab.ilabt.imec.be/ahadifar/google-research/-/tree/master/cochlear_implant\n",
    "\n",
    "python librosa library \n",
    "\n",
    "frequencies gotten from: https://ncbi.nlm.nih.gov/pmc/articles/PMC4386730/\n",
    "\n",
    "paper on mimicking the human ear https://ecs.utdallas.edu/loizou/cimplants/tutorial/introci.pdf\n",
    "\n",
    "rms energy https://www.analyticsvidhya.com/blog/2022/05/comparison-of-the-rms-energy-and-the-amplitude-envelope/\n",
    "\n",
    "construct sinusoid https://stackoverflow.com/questions/48043004/how-do-i-generate-a-sine-wave-using-python"
   ]
  },
  {
   "cell_type": "code",
   "execution_count": 1,
   "id": "5fb41da2",
   "metadata": {},
   "outputs": [],
   "source": [
    "import numpy as np\n",
    "import scipy.signal\n",
    "import scipy.io.wavfile\n",
    "import matplotlib.pyplot as plt\n",
    "import math"
   ]
  },
  {
   "cell_type": "code",
   "execution_count": 2,
   "id": "5c0ae3c9",
   "metadata": {},
   "outputs": [],
   "source": [
    "# frequencies gotten from: https://ncbi.nlm.nih.gov/pmc/articles/PMC4386730/\n",
    "FREQUENCIES_FOR_5_CHANNELS_TABLE_1 = [350, 607, 1053,1827,3170, 8700]\n",
    "FREQUENCIES_FOR_16_CHANNELS_TABLE_1 = [250, 416, 494, 587, 697, 828, 983, 1168, 1387, 1648, 1958, 2326, 2762, 3281, 3898, 4630, 8700]\n",
    "FREQUENCIES_FOR_6_CHANNELS_TABLE_2 = [188, 563, 1063, 1813, 2938, 4813, 7938]\n",
    "FREQUENCIES_FOR_22_CHANNELS_TABLE_2 = [188, 313, 438, 563, 688, 813, 938, 1063, 1188, 1438, 1688, 1938, 2313, 2688, 3188, 3688, 4313, 5603, 5938, 6938, 7938]\n",
    "LEN_TIME_QUANTIZED_MS = 8"
   ]
  },
  {
   "cell_type": "code",
   "execution_count": 3,
   "id": "64fff9de",
   "metadata": {},
   "outputs": [],
   "source": [
    "wav_file = \"LL-Q1860_(eng)-Wodencafe-4ever.wav\"\n",
    "frequency_ranges = FREQUENCIES_FOR_6_CHANNELS_TABLE_2 ### CHANGE THIS TO which you want"
   ]
  },
  {
   "cell_type": "code",
   "execution_count": 4,
   "id": "5e118ccb",
   "metadata": {},
   "outputs": [
    {
     "name": "stdout",
     "output_type": "stream",
     "text": [
      "sample_rate: 48000 samples/sec\n"
     ]
    }
   ],
   "source": [
    "# Load sample data from a WAV file\n",
    "sample_rate, data = scipy.io.wavfile.read(wav_file)\n",
    "times = np.arange(48000)/sample_rate\n",
    "\n",
    "print(\"sample_rate:\", str(sample_rate) + \" samples/sec\")"
   ]
  },
  {
   "cell_type": "code",
   "execution_count": 5,
   "id": "983a139c",
   "metadata": {
    "scrolled": false
   },
   "outputs": [
    {
     "data": {
      "text/plain": [
       "(47744,)"
      ]
     },
     "execution_count": 5,
     "metadata": {},
     "output_type": "execute_result"
    }
   ],
   "source": [
    "data.shape"
   ]
  },
  {
   "cell_type": "code",
   "execution_count": 6,
   "id": "51e10282",
   "metadata": {},
   "outputs": [],
   "source": [
    "def bandpass(data: np.ndarray, edges: list[float], sample_rate: float, poles: int = 5):\n",
    "    sos = scipy.signal.butter(poles, edges, 'bandpass', fs=sample_rate, output='sos')\n",
    "    filtered_data = scipy.signal.sosfiltfilt(sos, data)\n",
    "    return filtered_data"
   ]
  },
  {
   "cell_type": "code",
   "execution_count": 10,
   "id": "98466f09",
   "metadata": {},
   "outputs": [
    {
     "name": "stdout",
     "output_type": "stream",
     "text": [
      "48000\n",
      "48000\n",
      "48000\n",
      "48000\n",
      "48000\n",
      "48000\n"
     ]
    }
   ],
   "source": [
    "bandpassed_frequencies_low_to_high = []\n",
    "\n",
    "for indx in range(0, len(frequency_ranges)-1):\n",
    "    low, high = frequency_ranges[indx], frequency_ranges[indx+1]\n",
    "    temp = list(bandpass(data, [low, high], sample_rate))\n",
    "    temp.extend([0]*256)\n",
    "    print(len(temp))\n",
    "    bandpassed_frequencies_low_to_high.append(np.array(temp))"
   ]
  },
  {
   "cell_type": "code",
   "execution_count": 11,
   "id": "08af196e",
   "metadata": {},
   "outputs": [
    {
     "data": {
      "text/plain": [
       "[array([2.97564519, 3.35579265, 3.73372634, ..., 0.        , 0.        ,\n",
       "        0.        ]),\n",
       " array([-0.50353084,  0.00315667,  0.51505904, ...,  0.        ,\n",
       "         0.        ,  0.        ]),\n",
       " array([0.70562388, 0.58280641, 0.45728983, ..., 0.        , 0.        ,\n",
       "        0.        ]),\n",
       " array([0.24032829, 0.73077979, 1.16690294, ..., 0.        , 0.        ,\n",
       "        0.        ]),\n",
       " array([-0.12718046, -0.38797224, -0.58113357, ...,  0.        ,\n",
       "         0.        ,  0.        ]),\n",
       " array([0.03246054, 0.68791873, 0.97182544, ..., 0.        , 0.        ,\n",
       "        0.        ])]"
      ]
     },
     "execution_count": 11,
     "metadata": {},
     "output_type": "execute_result"
    }
   ],
   "source": [
    "bandpassed_frequencies_low_to_high"
   ]
  },
  {
   "cell_type": "code",
   "execution_count": null,
   "id": "fb328f7a",
   "metadata": {},
   "outputs": [],
   "source": []
  },
  {
   "cell_type": "code",
   "execution_count": 9,
   "id": "2cce81cc",
   "metadata": {
    "scrolled": false
   },
   "outputs": [
    {
     "ename": "ValueError",
     "evalue": "x and y must have same first dimension, but have shapes (48000,) and (47744,)",
     "output_type": "error",
     "traceback": [
      "\u001b[1;31m---------------------------------------------------------------------------\u001b[0m",
      "\u001b[1;31mValueError\u001b[0m                                Traceback (most recent call last)",
      "Cell \u001b[1;32mIn[9], line 5\u001b[0m\n\u001b[0;32m      3\u001b[0m axes[\u001b[38;5;241m0\u001b[39m]\u001b[38;5;241m.\u001b[39mset_title(\u001b[38;5;124m\"\u001b[39m\u001b[38;5;124mOriginal Signal\u001b[39m\u001b[38;5;124m\"\u001b[39m)\n\u001b[0;32m      4\u001b[0m axes[\u001b[38;5;241m0\u001b[39m]\u001b[38;5;241m.\u001b[39mgrid(alpha\u001b[38;5;241m=\u001b[39m\u001b[38;5;241m.5\u001b[39m, ls\u001b[38;5;241m=\u001b[39m\u001b[38;5;124m'\u001b[39m\u001b[38;5;124m--\u001b[39m\u001b[38;5;124m'\u001b[39m)\n\u001b[1;32m----> 5\u001b[0m \u001b[43maxes\u001b[49m\u001b[43m[\u001b[49m\u001b[38;5;241;43m0\u001b[39;49m\u001b[43m]\u001b[49m\u001b[38;5;241;43m.\u001b[39;49m\u001b[43mplot\u001b[49m\u001b[43m(\u001b[49m\u001b[43mtimes\u001b[49m\u001b[43m,\u001b[49m\u001b[43m \u001b[49m\u001b[43mdata\u001b[49m\u001b[43m)\u001b[49m \u001b[38;5;66;03m# plot entire graph\u001b[39;00m\n\u001b[0;32m      6\u001b[0m axes[\u001b[38;5;241m0\u001b[39m]\u001b[38;5;241m.\u001b[39mset_ylabel(\u001b[38;5;124m'\u001b[39m\u001b[38;5;124mamplitude\u001b[39m\u001b[38;5;124m'\u001b[39m)\n\u001b[0;32m      7\u001b[0m \u001b[38;5;66;03m# axes[0].set_xbound(lower=0.4, upper=0.42) # show a 20 ms snippet\u001b[39;00m\n\u001b[0;32m      8\u001b[0m \n\u001b[0;32m      9\u001b[0m \u001b[38;5;66;03m# ax1.margins(.1, .1)\u001b[39;00m\n",
      "File \u001b[1;32m~\\anaconda3\\lib\\site-packages\\matplotlib\\axes\\_axes.py:1688\u001b[0m, in \u001b[0;36mAxes.plot\u001b[1;34m(self, scalex, scaley, data, *args, **kwargs)\u001b[0m\n\u001b[0;32m   1445\u001b[0m \u001b[38;5;250m\u001b[39m\u001b[38;5;124;03m\"\"\"\u001b[39;00m\n\u001b[0;32m   1446\u001b[0m \u001b[38;5;124;03mPlot y versus x as lines and/or markers.\u001b[39;00m\n\u001b[0;32m   1447\u001b[0m \n\u001b[1;32m   (...)\u001b[0m\n\u001b[0;32m   1685\u001b[0m \u001b[38;5;124;03m(``'green'``) or hex strings (``'#008000'``).\u001b[39;00m\n\u001b[0;32m   1686\u001b[0m \u001b[38;5;124;03m\"\"\"\u001b[39;00m\n\u001b[0;32m   1687\u001b[0m kwargs \u001b[38;5;241m=\u001b[39m cbook\u001b[38;5;241m.\u001b[39mnormalize_kwargs(kwargs, mlines\u001b[38;5;241m.\u001b[39mLine2D)\n\u001b[1;32m-> 1688\u001b[0m lines \u001b[38;5;241m=\u001b[39m [\u001b[38;5;241m*\u001b[39m\u001b[38;5;28mself\u001b[39m\u001b[38;5;241m.\u001b[39m_get_lines(\u001b[38;5;241m*\u001b[39margs, data\u001b[38;5;241m=\u001b[39mdata, \u001b[38;5;241m*\u001b[39m\u001b[38;5;241m*\u001b[39mkwargs)]\n\u001b[0;32m   1689\u001b[0m \u001b[38;5;28;01mfor\u001b[39;00m line \u001b[38;5;129;01min\u001b[39;00m lines:\n\u001b[0;32m   1690\u001b[0m     \u001b[38;5;28mself\u001b[39m\u001b[38;5;241m.\u001b[39madd_line(line)\n",
      "File \u001b[1;32m~\\anaconda3\\lib\\site-packages\\matplotlib\\axes\\_base.py:311\u001b[0m, in \u001b[0;36m_process_plot_var_args.__call__\u001b[1;34m(self, data, *args, **kwargs)\u001b[0m\n\u001b[0;32m    309\u001b[0m     this \u001b[38;5;241m+\u001b[39m\u001b[38;5;241m=\u001b[39m args[\u001b[38;5;241m0\u001b[39m],\n\u001b[0;32m    310\u001b[0m     args \u001b[38;5;241m=\u001b[39m args[\u001b[38;5;241m1\u001b[39m:]\n\u001b[1;32m--> 311\u001b[0m \u001b[38;5;28;01myield from\u001b[39;00m \u001b[38;5;28;43mself\u001b[39;49m\u001b[38;5;241;43m.\u001b[39;49m\u001b[43m_plot_args\u001b[49m\u001b[43m(\u001b[49m\n\u001b[0;32m    312\u001b[0m \u001b[43m    \u001b[49m\u001b[43mthis\u001b[49m\u001b[43m,\u001b[49m\u001b[43m \u001b[49m\u001b[43mkwargs\u001b[49m\u001b[43m,\u001b[49m\u001b[43m \u001b[49m\u001b[43mambiguous_fmt_datakey\u001b[49m\u001b[38;5;241;43m=\u001b[39;49m\u001b[43mambiguous_fmt_datakey\u001b[49m\u001b[43m)\u001b[49m\n",
      "File \u001b[1;32m~\\anaconda3\\lib\\site-packages\\matplotlib\\axes\\_base.py:504\u001b[0m, in \u001b[0;36m_process_plot_var_args._plot_args\u001b[1;34m(self, tup, kwargs, return_kwargs, ambiguous_fmt_datakey)\u001b[0m\n\u001b[0;32m    501\u001b[0m     \u001b[38;5;28mself\u001b[39m\u001b[38;5;241m.\u001b[39maxes\u001b[38;5;241m.\u001b[39myaxis\u001b[38;5;241m.\u001b[39mupdate_units(y)\n\u001b[0;32m    503\u001b[0m \u001b[38;5;28;01mif\u001b[39;00m x\u001b[38;5;241m.\u001b[39mshape[\u001b[38;5;241m0\u001b[39m] \u001b[38;5;241m!=\u001b[39m y\u001b[38;5;241m.\u001b[39mshape[\u001b[38;5;241m0\u001b[39m]:\n\u001b[1;32m--> 504\u001b[0m     \u001b[38;5;28;01mraise\u001b[39;00m \u001b[38;5;167;01mValueError\u001b[39;00m(\u001b[38;5;124mf\u001b[39m\u001b[38;5;124m\"\u001b[39m\u001b[38;5;124mx and y must have same first dimension, but \u001b[39m\u001b[38;5;124m\"\u001b[39m\n\u001b[0;32m    505\u001b[0m                      \u001b[38;5;124mf\u001b[39m\u001b[38;5;124m\"\u001b[39m\u001b[38;5;124mhave shapes \u001b[39m\u001b[38;5;132;01m{\u001b[39;00mx\u001b[38;5;241m.\u001b[39mshape\u001b[38;5;132;01m}\u001b[39;00m\u001b[38;5;124m and \u001b[39m\u001b[38;5;132;01m{\u001b[39;00my\u001b[38;5;241m.\u001b[39mshape\u001b[38;5;132;01m}\u001b[39;00m\u001b[38;5;124m\"\u001b[39m)\n\u001b[0;32m    506\u001b[0m \u001b[38;5;28;01mif\u001b[39;00m x\u001b[38;5;241m.\u001b[39mndim \u001b[38;5;241m>\u001b[39m \u001b[38;5;241m2\u001b[39m \u001b[38;5;129;01mor\u001b[39;00m y\u001b[38;5;241m.\u001b[39mndim \u001b[38;5;241m>\u001b[39m \u001b[38;5;241m2\u001b[39m:\n\u001b[0;32m    507\u001b[0m     \u001b[38;5;28;01mraise\u001b[39;00m \u001b[38;5;167;01mValueError\u001b[39;00m(\u001b[38;5;124mf\u001b[39m\u001b[38;5;124m\"\u001b[39m\u001b[38;5;124mx and y can be no greater than 2D, but have \u001b[39m\u001b[38;5;124m\"\u001b[39m\n\u001b[0;32m    508\u001b[0m                      \u001b[38;5;124mf\u001b[39m\u001b[38;5;124m\"\u001b[39m\u001b[38;5;124mshapes \u001b[39m\u001b[38;5;132;01m{\u001b[39;00mx\u001b[38;5;241m.\u001b[39mshape\u001b[38;5;132;01m}\u001b[39;00m\u001b[38;5;124m and \u001b[39m\u001b[38;5;132;01m{\u001b[39;00my\u001b[38;5;241m.\u001b[39mshape\u001b[38;5;132;01m}\u001b[39;00m\u001b[38;5;124m\"\u001b[39m)\n",
      "\u001b[1;31mValueError\u001b[0m: x and y must have same first dimension, but have shapes (48000,) and (47744,)"
     ]
    },
    {
     "data": {
      "image/png": "[encoded data removed]",
      "text/plain": [
       "<Figure size 1000x3000 with 7 Axes>"
      ]
     },
     "metadata": {},
     "output_type": "display_data"
    }
   ],
   "source": [
    "# display result Bandpassed\n",
    "fig, axes = plt.subplots(len(bandpassed_frequencies_low_to_high)+1, figsize=(10, 30))\n",
    "axes[0].set_title(\"Original Signal\")\n",
    "axes[0].grid(alpha=.5, ls='--')\n",
    "axes[0].plot(times, data) # plot entire graph\n",
    "axes[0].set_ylabel('amplitude')\n",
    "# axes[0].set_xbound(lower=0.4, upper=0.42) # show a 20 ms snippet\n",
    "\n",
    "# ax1.margins(.1, .1)\n",
    "indx = 0\n",
    "for ax in axes[1:]:\n",
    "    low,high = frequency_ranges[indx], frequency_ranges[indx+1]\n",
    "    ax.set_title(f\"Band-Pass Filter ({low}-{high} kHz)\")\n",
    "    ax.grid(alpha=.5, ls='--')\n",
    "    ax.plot(times, bandpassed_frequencies_low_to_high[indx])\n",
    "    ax.set_ylabel('amplitude')\n",
    "#     ax.set_xbound(lower=0.4, upper=0.42) # show a 20 ms snippet\n",
    "#     ax.margins(.1, .1)\n",
    "    indx += 1\n",
    "plt.tight_layout()\n",
    "\n",
    "plt.show()\n",
    "\n"
   ]
  },
  {
   "cell_type": "code",
   "execution_count": null,
   "id": "5615ac47",
   "metadata": {},
   "outputs": [],
   "source": [
    "# get envelope (absolute amplitude)\n",
    "# should this be half-wave rectified?"
   ]
  },
  {
   "cell_type": "code",
   "execution_count": null,
   "id": "2ff3176f",
   "metadata": {},
   "outputs": [],
   "source": [
    "enveloped_frequencies_low_to_high = []\n",
    "for indx in range(len(bandpassed_frequencies_low_to_high)):\n",
    "    enveloped_frequencies_low_to_high.append(np.abs(bandpassed_frequencies_low_to_high[indx]))"
   ]
  },
  {
   "cell_type": "code",
   "execution_count": null,
   "id": "633c725c",
   "metadata": {},
   "outputs": [],
   "source": [
    "# display result Rectified\n",
    "fig, axes = plt.subplots(len(enveloped_frequencies_low_to_high)+1, figsize=(10, 30))\n",
    "axes[0].set_title(\"Original Signal\")\n",
    "axes[0].grid(alpha=.5, ls='--')\n",
    "axes[0].plot(times, data)\n",
    "axes[0].set_ylabel('amplitude')\n",
    "# axes[0].set_xbound(lower=0.4, upper=0.42) # show a 20 ms snippet\n",
    "# ax1.margins(.1, .1)\n",
    "indx = 0\n",
    "for ax in axes[1:]:\n",
    "    low,high = frequency_ranges[indx], frequency_ranges[indx+1]\n",
    "    ax.set_title(f\"Rectified (envelope) ({low}-{high} kHz)\")\n",
    "    ax.grid(alpha=.5, ls='--')\n",
    "    ax.plot(times, enveloped_frequencies_low_to_high[indx])\n",
    "    ax.set_ylabel('amplitude')\n",
    "#     ax.set_xbound(lower=0.4, upper=0.42) # show a 20 ms snippet\n",
    "#     ax.margins(.1, .1)\n",
    "    indx += 1\n",
    "plt.tight_layout()\n",
    "plt.show()\n",
    "\n",
    "### DO NOT JUST GET THE POSITIVE AMPLITUDE. DO \"ENVELOPE EXTRACTION\""
   ]
  },
  {
   "cell_type": "code",
   "execution_count": null,
   "id": "73280cfb",
   "metadata": {},
   "outputs": [],
   "source": [
    "# get energy\n",
    "'''\n",
    "get the time interval 8ms\n",
    "get computer the rms (root mean square energy) but shift it by 2 seconds for some overlap. this makes the signal sound smother and less choppy.\n",
    "\n",
    "in cochlear implant, the energy is converted to current\n",
    "in this case, i'll reconstruct the signal using sinusoid - represent the 8ms of that signal with a sinusoid with that (average) frequency (of the 8ms) and amplitude. do this for each frequency band. then (sum) all the sinusoid values at that point to reconstruct the sound.\n",
    "\n",
    "construct the spectrograph\n",
    "\n",
    "TIP: make sure to use a zero phase filter as a parameter in the bandpass filter\n",
    "\n",
    "try with 10ms and zoom in to get the amplitude of the sinusoid.\n",
    "'''\n"
   ]
  },
  {
   "cell_type": "code",
   "execution_count": null,
   "id": "c0783eb6",
   "metadata": {},
   "outputs": [],
   "source": [
    "# get rms every 8 ms, construct a sinusoid with amplitude = rms energy and frequency = average of the bandpass filter\n",
    "print(len(enveloped_frequencies_low_to_high))\n",
    "print(enveloped_frequencies_low_to_high[0].shape)"
   ]
  },
  {
   "cell_type": "code",
   "execution_count": null,
   "id": "cb427b3d",
   "metadata": {
    "scrolled": true
   },
   "outputs": [],
   "source": [
    "# sample rate = 48000/s or 384 per 8 ms\n",
    "# got rms energy for 384 samples (no overlap currently) since that's equal to 8ms\n",
    "\n",
    "rms_energy_values = []\n",
    "for frequencies in enveloped_frequencies_low_to_high:\n",
    "    rms_list = []\n",
    "    indx = 0\n",
    "    frame_step = int((sample_rate/1000)*LEN_TIME_QUANTIZED_MS) # the number of indices equal to LEN_TIME_QUANTIZED_MS milliseconds. this should give an integer\n",
    "    final_indx = indx + frame_step\n",
    "    while final_indx < frequencies.shape[0]:\n",
    "        rms_list.append(math.sqrt(np.mean(frequencies[indx:final_indx]**2)))\n",
    "        indx += frame_step\n",
    "        final_indx += frame_step\n",
    "    final_frame_length = len(frequencies[indx:])\n",
    "    rms_list.append(math.sqrt(np.mean(frequencies[indx:]**2)))\n",
    "    rms_energy_values.append(np.array(rms_list))"
   ]
  },
  {
   "cell_type": "code",
   "execution_count": null,
   "id": "6616ddfe",
   "metadata": {},
   "outputs": [],
   "source": [
    "len(rms_energy_values[0])"
   ]
  },
  {
   "cell_type": "code",
   "execution_count": null,
   "id": "f2a4979d",
   "metadata": {
    "scrolled": false
   },
   "outputs": [],
   "source": [
    "rms_energy_values\n",
    "enveloped_frequencies_low_to_high"
   ]
  },
  {
   "cell_type": "code",
   "execution_count": null,
   "id": "6dc8a13e",
   "metadata": {},
   "outputs": [],
   "source": [
    "'''\n",
    "the rms energy values will be the amplitude of the sinusoid over 8ms\n",
    "the frequency of the 8ms should be the average frequency in that range.\n",
    "'''\n",
    "\n",
    "def create_sinusoid(average_frequency, amplitude, t=0.008):\n",
    "    '''\n",
    "    average_frequency (int): should be the average frequency of that channel\n",
    "    t (int): should be the time of the generated sound in seconds\n",
    "    sample_rate (int): should be the sample rate of the audio file\n",
    "    sample_rate (float): should be the amplitude of the sound, in this case the rms energy value\n",
    "    ''' \n",
    "    f = average_frequency\n",
    "\n",
    "    samples = np.linspace(0, t, int(sample_rate*t), endpoint=False)\n",
    "\n",
    "    signal = np.sin(2 * np.pi * f * samples)\n",
    "\n",
    "    signal *= amplitude # ?? should multiply by the rms energy\n",
    "\n",
    "    return signal"
   ]
  },
  {
   "cell_type": "code",
   "execution_count": null,
   "id": "c3040180",
   "metadata": {},
   "outputs": [],
   "source": [
    "signal = []\n",
    "\n",
    "for indx in range(len(frequency_ranges)-1):\n",
    "    output = []\n",
    "    min_frequency = frequency_ranges[indx]\n",
    "    max_frequency = frequency_ranges[indx+1]\n",
    "    average_frequency = (min_frequency+max_frequency)/2\n",
    "    ## TODO HERE: get every 8 seconds and its amplitude\n",
    "    for amplitude in rms_energy_values[indx][:-1]: # do this until the final frame which may not be the max frame length\n",
    "        output.extend(create_sinusoid(average_frequency, amplitude, LEN_TIME_QUANTIZED_MS/1000))\n",
    "    output.extend(create_sinusoid(average_frequency, amplitude, (final_frame_length/frame_step)*LEN_TIME_QUANTIZED_MS/1000)) # process the final frame which may not be the max frame length \n",
    "    signal.append(np.array(output))\n",
    "    "
   ]
  },
  {
   "cell_type": "code",
   "execution_count": null,
   "id": "26c97fbf",
   "metadata": {
    "scrolled": false
   },
   "outputs": [],
   "source": [
    "times_reconstructed = np.arange(len(signal[0]))/sample_rate\n",
    "fig, axes = plt.subplots(len(signal)+1, figsize=(10, 30))\n",
    "axes[0].set_title(\"Original Signal\")\n",
    "axes[0].grid(alpha=.5, ls='--')\n",
    "axes[0].plot(times, data)\n",
    "axes[0].set_ylabel('amplitude')\n",
    "# axes[0].set_xbound(lower=0.4, upper=0.42) # show a 20 ms snippet\n",
    "# ax1.margins(.1, .1)\n",
    "indx = 0\n",
    "for ax in axes[1:]:\n",
    "    low,high = frequency_ranges[indx], frequency_ranges[indx+1]\n",
    "    ax.set_title(f\"Reconstructed Signal ({low}-{high} kHz)\")\n",
    "    ax.grid(alpha=.5, ls='--')\n",
    "    ax.plot(times_reconstructed, signal[indx])\n",
    "    ax.set_ylabel('amplitude')\n",
    "#     ax.set_xbound(lower=0.4, upper=0.42) # show a 20 ms snippet\n",
    "#     ax.margins(.1, .1)\n",
    "    indx += 1\n",
    "plt.tight_layout()\n",
    "plt.show()\n",
    "\n",
    "### DO NOT JUST GET THE POSITIVE AMPLITUDE. DO \"ENVELOPE EXTRACTION\""
   ]
  },
  {
   "cell_type": "code",
   "execution_count": null,
   "id": "ab55cfe2",
   "metadata": {},
   "outputs": [],
   "source": [
    "plt.plot(np.arange(len(signal[0]))/sample_rate, signal[0])\n",
    "# plt.xlim(0.4, 0.42) # show a 20 ms snippet\n",
    "plt.show()"
   ]
  },
  {
   "cell_type": "code",
   "execution_count": null,
   "id": "1d66b2e1",
   "metadata": {
    "scrolled": true
   },
   "outputs": [],
   "source": [
    "fs = sample_rate\n",
    "signal_wav = np.int16(signal).T\n",
    "signal_wav.shape # should be (data points, channels)"
   ]
  },
  {
   "cell_type": "code",
   "execution_count": null,
   "id": "0e9b922f",
   "metadata": {},
   "outputs": [],
   "source": [
    "# scipy.io.wavfile.write(input(\"Name your audio: \")+\".wav\", fs, signal_wav) # have to transpose signal "
   ]
  },
  {
   "cell_type": "code",
   "execution_count": null,
   "id": "79f0a625",
   "metadata": {},
   "outputs": [],
   "source": []
  }
 ],
 "metadata": {
  "kernelspec": {
   "display_name": "Python 3 (ipykernel)",
   "language": "python",
   "name": "python3"
  },
  "language_info": {
   "codemirror_mode": {
    "name": "ipython",
    "version": 3
   },
   "file_extension": ".py",
   "mimetype": "text/x-python",
   "name": "python",
   "nbconvert_exporter": "python",
   "pygments_lexer": "ipython3",
   "version": "3.10.9"
  }
 },
 "nbformat": 4,
 "nbformat_minor": 5
}
