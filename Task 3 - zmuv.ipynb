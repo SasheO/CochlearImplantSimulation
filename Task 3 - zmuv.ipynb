{
 "cells": [
  {
   "cell_type": "code",
   "execution_count": 54,
   "id": "563d68fe",
   "metadata": {},
   "outputs": [],
   "source": [
    "'''\n",
    "Look into outputs. \n",
    "\n",
    "Phonemes labels are at the end of each line. \n",
    "\n",
    "Get average length of phoneme. \n",
    "\n",
    "Get the mean feature, the average, everything from post two weeks. \n",
    "\n",
    "Change kevin's code in your directory to write outputs to output dir.\n",
    "\n",
    "Find out which files were affected in Kevin's dataset. Replace them.\n",
    "'''\n",
    "import pandas as pd\n",
    "import os\n",
    "import numpy as np\n",
    "import matplotlib.pyplot as plt\n",
    "import umap"
   ]
  },
  {
   "cell_type": "code",
   "execution_count": 287,
   "id": "cda9576e",
   "metadata": {},
   "outputs": [],
   "source": [
    "ALL_PHONEMES = ['iy',  'ux',  'eh',  'ix',  'ao',  'aa',  'ax-h',  'ih',  'uh',  'ah',  'uw',  'ax',  'ae',  'ay',  'aw',   'ey',\n",
    " 'ow',  'oy',  'y',  'er',  'l','el','axr','w','r','t','p','d','jh','b','g','ch','k','v','dh','th','hv','s','zh','f','z','hh','sh','nx','m','en','em','n','eng','ng','pau','bcl','pcl','tcl','epi','q','dcl','h','dx','gcl','kcl','h#']"
   ]
  },
  {
   "cell_type": "code",
   "execution_count": 288,
   "id": "dda21773",
   "metadata": {},
   "outputs": [
    {
     "data": {
      "text/plain": [
       "62"
      ]
     },
     "execution_count": 288,
     "metadata": {},
     "output_type": "execute_result"
    }
   ],
   "source": [
    "len(ALL_PHONEMES)"
   ]
  },
  {
   "cell_type": "markdown",
   "id": "cc4ef2d1",
   "metadata": {},
   "source": [
    "# Getting Average Length of Features"
   ]
  },
  {
   "cell_type": "code",
   "execution_count": 20,
   "id": "945e0c3f",
   "metadata": {},
   "outputs": [],
   "source": [
    "# check if file has been opened\n",
    "def is_timit_txt_file_processed(filename): # checks if file is shorter than 1000 kb\n",
    "    return os.path.getsize(filename) > 1000\n",
    "\n",
    "def is_timit_txt_file_processe2(filename): # slower because it opens files and checks if it is only one line (the sentence spoken as obseved in timit dataset) or multiple. use as confirmation\n",
    "    f = open(filename, \"r\")\n",
    "    lines = f.readlines()\n",
    "    return not len(lines)==1"
   ]
  },
  {
   "cell_type": "code",
   "execution_count": 3,
   "id": "08c69de1",
   "metadata": {},
   "outputs": [],
   "source": [
    "'''\n",
    "Look into outputs. \n",
    "Open each file and read line by line. get number of lines for each file\n",
    "add them into all files\n",
    "find average for each phoneme\n",
    "find weighted average for all phonemes\n",
    "\n",
    "NOTES:\n",
    "each line is 131 long, phoneme inclusive\n",
    "'''\n",
    "def get_phonemes_features_lengths_single_file(filename):\n",
    "    '''\n",
    "    gets the number of feature lines corresponding to each phoneme in a file\n",
    "    \n",
    "    input:\n",
    "        filename (str): the name of the file\n",
    "    \n",
    "    output:\n",
    "        phonemes_to_lengths (dict): a map of the phoneme to a list of the number of feature lines corresponding to each occurence of the phoneme. For example, if the aa phoneme occurs twice in the input file and the first time is 15 line and the second is 20 lines long, the output will include 'aa': [15,20]\n",
    "    '''\n",
    "    previous_phoneme = \"\"\n",
    "    phonemes_to_lengths = {}\n",
    "    f = open(filename, \"r\")\n",
    "    lines = f.readlines()\n",
    "    for line in lines: \n",
    "        phoneme = line.split()[-1]\n",
    "        if phoneme in phonemes_to_lengths: # repeat occurence of phoneme\n",
    "            if phoneme == previous_phoneme: # still same phoneme, increment count\n",
    "                phonemes_to_lengths[phoneme][-1] += 1\n",
    "            else: # different phoneme, start counter for phoneme\n",
    "                phonemes_to_lengths[phoneme].append(1)\n",
    "        else: # first occurence of phoneme\n",
    "            phonemes_to_lengths[phoneme] = [1]\n",
    "        previous_phoneme = phoneme\n",
    "    return phonemes_to_lengths"
   ]
  },
  {
   "cell_type": "code",
   "execution_count": 4,
   "id": "9071574f",
   "metadata": {
    "scrolled": true
   },
   "outputs": [
    {
     "name": "stdout",
     "output_type": "stream",
     "text": [
      "{'h#': [44, 62], 'ax-h': [20, 10], 's': [53, 52], 'ey': [51, 43], 'l': [7, 26], 'v': [17, 23], 'ow': [56, 79], 'q': [10, 25], 'm': [32, 28, 37], 'hv': [40, 25], 'ae': [55], 'ax': [25], 'bcl': [35, 22], 'b': [12, 18], 'n': [15, 36, 34, 17, 22, 34], 'ih': [46, 36, 26], 'axr': [26], 'tcl': [37, 18], 't': [23, 21], 'iy': [50], 'dh': [38, 11], 'w': [35], 'ah': [30], 'ix': [22, 15], 'ay': [48], 'kcl': [24, 51], 'k': [37], 'aa': [60], 'eh': [86]}\n"
     ]
    }
   ],
   "source": [
    "filename = \"Y:/personal/ojuba.mezisashe/timit_dp_test_extract_features/TRAIN/DR1/FCJF0/SI648.txt\"\n",
    "print(get_phonemes_features_lengths_single_file(filename))"
   ]
  },
  {
   "cell_type": "code",
   "execution_count": 12,
   "id": "0bc4aba4",
   "metadata": {},
   "outputs": [],
   "source": [
    "'''\n",
    "get list of all files.\n",
    "iterate through all files, use get_phonemes_features_lengths_single_file(filename)\n",
    "integrate outputs into single output\n",
    "get average per phoneme and total weighted average\n",
    "'''\n",
    "\n",
    "# get list of all files\n",
    "files_searching = [] # list of all files that will be used in getting weighted average\n",
    "directory_train_or_dev = \"Y:\\\\personal\\\\ojuba.mezisashe\\\\timit_dp_test_extract_features\\\\TRAIN\" # should be of depth = (dev, test, or train) in timit dataset\n",
    "for current_directory,subfolders,files in list(os.walk(directory_train_or_dev))[2:]:\n",
    "    for file in files:\n",
    "        file = current_directory + \"\\\\\" + file\n",
    "        if file.lower().endswith(\".txt\"):\n",
    "            if is_timit_txt_file_processed(file): \n",
    "                files_searching.append(file)"
   ]
  },
  {
   "cell_type": "code",
   "execution_count": 23,
   "id": "dcf5cd94",
   "metadata": {},
   "outputs": [],
   "source": [
    "# iterate through all files, use get_phonemes_features_lengths_single_file(filename)\n",
    "# integrate outputs into single output\n",
    "phonemes_to_lengths = {}\n",
    "for file in files_searching:\n",
    "    phonemes_to_lengths_single_file = get_phonemes_features_lengths_single_file(file)\n",
    "    for phoneme in phonemes_to_lengths_single_file:\n",
    "        if phoneme in phonemes_to_lengths:\n",
    "            phonemes_to_lengths[phoneme].extend(phonemes_to_lengths_single_file[phoneme])\n",
    "        else:\n",
    "            phonemes_to_lengths[phoneme] = phonemes_to_lengths_single_file[phoneme]"
   ]
  },
  {
   "cell_type": "code",
   "execution_count": 24,
   "id": "1707d47f",
   "metadata": {},
   "outputs": [],
   "source": [
    "# get average per phoneme and total weighted average\n",
    "# total is calculated without 'h#' phoneme\n",
    "average_phoneme_lengths = {} # get average per phoneme and total weighted average in 'total' key\n",
    "num_phonemes_total = 0\n",
    "for phoneme in phonemes_to_lengths:\n",
    "    average_phoneme_lengths[phoneme] = sum(phonemes_to_lengths[phoneme])/len(phonemes_to_lengths[phoneme])\n",
    "    num_phonemes_total += len(phonemes_to_lengths[phoneme])\n",
    "\n",
    "average_phoneme_lengths['total'] = 0\n",
    "for phoneme in phonemes_to_lengths:\n",
    "    if phoneme == \"h#\":\n",
    "        pass\n",
    "    else:\n",
    "        average_phoneme_lengths['total'] += average_phoneme_lengths[phoneme] * (len(phonemes_to_lengths[phoneme])/num_phonemes_total)"
   ]
  },
  {
   "cell_type": "code",
   "execution_count": 58,
   "id": "2ce5270c",
   "metadata": {
    "scrolled": true
   },
   "outputs": [
    {
     "data": {
      "text/plain": [
       "{'h#': 91.61307901907357,\n",
       " 'q': 31.835365853658537,\n",
       " 'iy': 45.330232558139535,\n",
       " 'v': 30.303030303030305,\n",
       " 'ih': 38.78341013824885,\n",
       " 'n': 27.721854304635762,\n",
       " 'eh': 45.829268292682926,\n",
       " 'ix': 23.439560439560438,\n",
       " 'f': 53.99173553719008,\n",
       " 'sh': 58.641975308641975,\n",
       " 'tcl': 27.133587786259543,\n",
       " 't': 24.478021978021978,\n",
       " 'uh': 35.18181818181818,\n",
       " 'kcl': 30.07,\n",
       " 'k': 26.00561797752809,\n",
       " 'w': 26.726315789473684,\n",
       " 'ah': 43.03603603603604,\n",
       " 's': 58.463667820069205,\n",
       " 'pcl': 34.18181818181818,\n",
       " 'ow': 64.66265060240964,\n",
       " 'dcl': 25.246376811594203,\n",
       " 'd': 12.285714285714286,\n",
       " 'hh': 32.41463414634146,\n",
       " 'ae': 71.80714285714286,\n",
       " 'ch': 44.075,\n",
       " 'epi': 19.70212765957447,\n",
       " 'axr': 37.883495145631066,\n",
       " 'ao': 56.529411764705884,\n",
       " 'r': 27.349282296650717,\n",
       " 'bcl': 31.606060606060606,\n",
       " 'b': 10.18421052631579,\n",
       " 'aa': 64.97142857142858,\n",
       " 'ax': 22.910179640718564,\n",
       " 'em': 46.44444444444444,\n",
       " 'ng': 29.982142857142858,\n",
       " 'gcl': 26.723076923076924,\n",
       " 'g': 14.307692307692308,\n",
       " 'hv': 33.86486486486486,\n",
       " 'm': 33.105555555555554,\n",
       " 'ay': 79.94897959183673,\n",
       " 'th': 50.625,\n",
       " 'ax-h': 17.391304347826086,\n",
       " 'ey': 60.981308411214954,\n",
       " 'l': 29.56387665198238,\n",
       " 'dh': 17.346456692913385,\n",
       " 'p': 21.84090909090909,\n",
       " 'dx': 14.037037037037036,\n",
       " 'aw': 74.13888888888889,\n",
       " 'er': 60.822784810126585,\n",
       " 'nx': 13.0,\n",
       " 'z': 42.723270440251575,\n",
       " 'jh': 31.369565217391305,\n",
       " 'el': 43.05769230769231,\n",
       " 'uw': 57.0,\n",
       " 'ux': 54.30769230769231,\n",
       " 'oy': 79.95238095238095,\n",
       " 'y': 30.462962962962962,\n",
       " 'en': 39.94285714285714,\n",
       " 'pau': 87.34426229508196,\n",
       " 'zh': 42.285714285714285,\n",
       " '0.5': 1.0,\n",
       " 'total': 34.64579479151841}"
      ]
     },
     "execution_count": 58,
     "metadata": {},
     "output_type": "execute_result"
    }
   ],
   "source": [
    "average_phoneme_lengths"
   ]
  },
  {
   "cell_type": "code",
   "execution_count": 37,
   "id": "feba791e",
   "metadata": {
    "scrolled": true
   },
   "outputs": [
    {
     "data": {
      "text/plain": [
       "62"
      ]
     },
     "execution_count": 37,
     "metadata": {},
     "output_type": "execute_result"
    }
   ],
   "source": [
    "len(average_phoneme_lengths)"
   ]
  },
  {
   "cell_type": "code",
   "execution_count": 38,
   "id": "4302659d",
   "metadata": {},
   "outputs": [],
   "source": [
    "manner_of_articulation_map = {\"vowels\":{\"iy\",\"ih\", 'eh', 'ae', 'aa', 'ah', 'ao', 'uh', 'uw', 'ux', 'ax', 'ax-h', 'ix'},\n",
    "                             \"dipthongs\":{'ey', 'aw', 'ay', 'oy', 'ow'},\n",
    "                             \"semi-vowels\": {'l', 'el', 'r', 'w', 'y', 'er', 'axr'},\n",
    "                             \"stops\": {'b', 'd', 'g', 'p', 't', 'k', 'jh', 'ch'},\n",
    "                             \"fricatives\": {'s', 'sh', 'z', 'zh', 'f', 'th', 'v', 'dh', 'hh', 'hv'},\n",
    "                             \"nasals\": {'m', 'em', 'n', 'nx', 'ng', 'eng', 'en'},\n",
    "                             \"silence\": {'dx', 'bcl', 'dcl', 'gcl', 'pcl', 'tcl', 'kcl', 'h', 'pau', 'epi', 'q'},\n",
    "                             \"h#\": {\"h#\"}} # from https://ieeexplore.ieee.org/stamp/stamp.jsp?tp=&arnumber=4100697  3"
   ]
  },
  {
   "cell_type": "code",
   "execution_count": 40,
   "id": "ad1c0eba",
   "metadata": {},
   "outputs": [
    {
     "data": {
      "text/plain": [
       "56"
      ]
     },
     "execution_count": 40,
     "metadata": {},
     "output_type": "execute_result"
    }
   ],
   "source": [
    "sum([len(x) for x,y in manner_of_articulation_map.items()])"
   ]
  },
  {
   "cell_type": "markdown",
   "id": "ed4a1b2f",
   "metadata": {},
   "source": [
    "# UMAP visualization"
   ]
  },
  {
   "cell_type": "code",
   "execution_count": null,
   "id": "3157d53b",
   "metadata": {},
   "outputs": [],
   "source": [
    "def get_phonemes_from_single_file(filename, intended_phoneme_feature_matrix_length):\n",
    "    '''\n",
    "    this returns a dicitonary mapping phoneme names to numpy matrices of features of the phoneme class of a particular length (padded with nans if data is less than) found in a file\n",
    "    inputs:\n",
    "        filename (str): the input file\n",
    "        intended_phoneme_feature_matrix_length (int): the matrix length intended, such as a weighted average of the phoneme class lengths. if the features are not up to this length, it will be padded\n",
    "    '''\n",
    "    output_dictionary = {}\n",
    "    previous_phoneme = \"\"\n",
    "    f = open(filename, \"r\")\n",
    "    lines = f.readlines()\n",
    "    for line in lines: \n",
    "        line = line.split()\n",
    "        current_phoneme = line[-1]\n",
    "        line = line[:-1]\n",
    "        \n",
    "        if current_phoneme == previous_phoneme:\n",
    "            if len(output_dictionary[current_phoneme][-1])<intended_phoneme_feature_matrix_length:\n",
    "                output_dictionary[current_phoneme][-1].append(line)\n",
    "        else:\n",
    "            if previous_phoneme:\n",
    "                a = np.empty((len(output_dictionary[previous_phoneme][-1][-1])))\n",
    "                a[:] = np.nan\n",
    "                while len(output_dictionary[previous_phoneme][-1])<intended_phoneme_feature_matrix_length:\n",
    "                    output_dictionary[previous_phoneme][-1].append(a)\n",
    "            if current_phoneme in output_dictionary:\n",
    "                output_dictionary[current_phoneme].append([line])\n",
    "            else:\n",
    "                output_dictionary[current_phoneme] = [[line]]\n",
    "        previous_phoneme = current_phoneme\n",
    "    if output_dictionary:\n",
    "        a = np.empty((len(output_dictionary[previous_phoneme][-1][-1])))\n",
    "        a[:] = np.nan\n",
    "        while len(output_dictionary[previous_phoneme][-1])<intended_phoneme_feature_matrix_length:\n",
    "            output_dictionary[previous_phoneme][-1].append(a)\n",
    "    \n",
    "    for phoneme in output_dictionary:\n",
    "        output_dictionary[phoneme] = np.array(output_dictionary[phoneme],dtype=\"float\")\n",
    "    return output_dictionary"
   ]
  },
  {
   "cell_type": "code",
   "execution_count": null,
   "id": "cdd9b270",
   "metadata": {},
   "outputs": [],
   "source": [
    "# testing above function\n",
    "filename = 'Y:\\\\personal\\\\ojuba.mezisashe\\\\timit_dp_test_extract_features\\\\TRAIN\\\\DR1\\\\FCJF0\\\\SI1027.TXT'\n",
    "_ = get_phonemes_from_single_file(filename, weighted_average_phoneme_length)\n",
    "# _ = get_phonemes_from_single_file(filename, 100) # edge case test"
   ]
  },
  {
   "cell_type": "code",
   "execution_count": null,
   "id": "d8be404f",
   "metadata": {},
   "outputs": [],
   "source": [
    "'''\n",
    "put umap plotting into function\n",
    "'''"
   ]
  },
  {
   "cell_type": "code",
   "execution_count": null,
   "id": "3fcac32b",
   "metadata": {},
   "outputs": [],
   "source": [
    "def get_features_from_files(files_searching, weighted_average_phoneme_length, normalized=False):\n",
    "#     weighted_average_phoneme_length = int(average_phoneme_lengths['total']) # around 34.64579479151841\n",
    "\n",
    "    features_rolled_out = []\n",
    "    phoneme_to_number = {}\n",
    "    phonemes_from = [] # this will put the phonemes here which will be used to colour code the data\n",
    "\n",
    "    current = 0 # used to sample how many files running through for testing\n",
    "    _break = False\n",
    "    for filename in files_searching:\n",
    "        phonemes_features_dict = get_phonemes_from_single_file(filename, weighted_average_phoneme_length)\n",
    "        for phoneme in phonemes_features_dict:\n",
    "            features_for_phoneme = phonemes_features_dict[phoneme]\n",
    "            for phoneme_instance in features_for_phoneme:\n",
    "                features_rolled_out.append(phoneme_instance.flatten()) # issue with this.\n",
    "                if phoneme in phoneme_to_number:\n",
    "                    pass\n",
    "                else:\n",
    "                    phoneme_to_number[phoneme] = len(phoneme_to_number)+1\n",
    "                phonemes_from.append(phoneme_to_number[phoneme])\n",
    "\n",
    "        current += 1\n",
    "        if current == 5:\n",
    "            break\n",
    "\n",
    "    return features_rolled_out"
   ]
  },
  {
   "cell_type": "code",
   "execution_count": 270,
   "id": "f8b378bb",
   "metadata": {},
   "outputs": [],
   "source": [
    "def plot_umap(features_rolled_out, phonemes_from, weighted_average_phoneme_length, colour_map=None, colour_map_name=None):\n",
    "    \n",
    "    '''\n",
    "    colour_map (dict): maps label of phoneme classification groups to a set/list of phonemes in that group. for example, the manner of articulation colour_map (from https://ieeexplore.ieee.org/stamp/stamp.jsp?tp=&arnumber=4100697) would be {\"vowels\":{\"iy\",\"ih\", 'eh', 'ae', 'aa', 'ah', 'ao', 'uh', 'uw', 'ux', 'ax', 'ax-h', 'ix'},                             \"dipthongs\":{'ey', 'aw', 'ay', 'oy', 'ow'},\"semi-vowels\": {'l', 'el', 'r', 'w', 'y', 'er', 'axr'},\"stops\": {'b', 'd', 'g', 'p', 't', 'k', 'jh', 'ch'},\"fricatives\": {'s', 'sh', 'z', 'zh', 'f', 'th', 'v', 'dh', 'hh', 'hv'},\"nasals\": {'m', 'em', 'n', 'nx', 'ng', 'eng', 'en'},\"silence\": {'dx', 'bcl', 'dcl', 'gcl', 'pcl', 'tcl', 'kcl', 'h', 'pau', 'epi', 'q'},\"h#\": {\"h#\"}} \n",
    "    '''\n",
    "    \n",
    "    features_rolled_out = np.array(features_rolled_out, dtype=float)\n",
    "    features_rolled_out = np.nan_to_num(features_rolled_out, copy=True, posinf=0, neginf=0)\n",
    "    \n",
    "    # copy pasted most of this code from mnist example\n",
    "    reducer = umap.UMAP(random_state=42)\n",
    "    embedding = reducer.fit_transform(features_rolled_out)\n",
    "\n",
    "    # if issues, may be due to nan values. think how to deal with sparse data? maybe cut off at some point.\n",
    "    fig, ax = plt.subplots(figsize=(12, 10))\n",
    "    colors = phonemes_from\n",
    "    \n",
    "    if colour_map:\n",
    "        number_to_phoneme = {}\n",
    "\n",
    "        for y,x in phoneme_to_number.items():\n",
    "            number_to_phoneme[x]=y\n",
    "        phonemes_from_colour_coded = []\n",
    "        for phoneme_num in phonemes_from:\n",
    "            phoneme = number_to_phoneme[phoneme_num]\n",
    "            added = False\n",
    "            for indx in range(len(colour_map)):\n",
    "                if phoneme in list(colour_map.items())[indx][1]:\n",
    "                    phonemes_from_colour_coded.append(indx)\n",
    "                    added = True\n",
    "                    break\n",
    "            if added:\n",
    "                continue\n",
    "            else:\n",
    "                phonemes_from_colour_coded.append(len(colour_map)+1)\n",
    "                print(phoneme)\n",
    "        colors = phonemes_from_colour_coded\n",
    "\n",
    "    plt.scatter(embedding[:, 0], embedding[:, 1], c=colors, cmap=\"Spectral\", s=10)\n",
    "    plt.setp(ax, xticks=[], yticks=[])\n",
    "    plt.title(\"Phonemes\", fontsize=18)\n",
    "\n",
    "    if colour_map:\n",
    "        plt.colorbar(boundaries=np.arange(len(set(colors)))-0.5).set_ticks(ticks=np.arange(len(set(colors))), labels=list(colour_map.keys())) #+[\"other\"])\n",
    "        if colour_map_name:\n",
    "            plt.title(\"Phonemes according to \"+ colour_map_name, fontsize=18)\n",
    "    else:\n",
    "        plt.colorbar().ax.tick_params(labelsize=10)\n",
    "\n",
    "    plt.show()\n"
   ]
  },
  {
   "cell_type": "code",
   "execution_count": 262,
   "id": "349a6c9c",
   "metadata": {
    "scrolled": false
   },
   "outputs": [
    {
     "name": "stderr",
     "output_type": "stream",
     "text": [
      "C:\\Users\\sashe\\anaconda3\\lib\\site-packages\\umap\\umap_.py:1945: UserWarning: n_jobs value 1 overridden to 1 by setting random_state. Use no seed for parallelism.\n",
      "  warn(f\"n_jobs value {self.n_jobs} overridden to 1 by setting random_state. Use no seed for parallelism.\")\n"
     ]
    },
    {
     "data": {
      "image/png": "[encoded data removed]",
      "text/plain": [
       "<Figure size 1200x1000 with 2 Axes>"
      ]
     },
     "metadata": {},
     "output_type": "display_data"
    }
   ],
   "source": [
    "plot_umap(files_searching, weighted_average_phoneme_length)"
   ]
  },
  {
   "cell_type": "code",
   "execution_count": 269,
   "id": "9098f1a9",
   "metadata": {},
   "outputs": [
    {
     "name": "stderr",
     "output_type": "stream",
     "text": [
      "C:\\Users\\sashe\\anaconda3\\lib\\site-packages\\umap\\umap_.py:1945: UserWarning: n_jobs value 1 overridden to 1 by setting random_state. Use no seed for parallelism.\n",
      "  warn(f\"n_jobs value {self.n_jobs} overridden to 1 by setting random_state. Use no seed for parallelism.\")\n"
     ]
    },
    {
     "data": {
      "image/png": "[encoded data removed]",
      "text/plain": [
       "<Figure size 1200x1000 with 2 Axes>"
      ]
     },
     "metadata": {},
     "output_type": "display_data"
    }
   ],
   "source": [
    "manner_of_articulation_map = {\"vowels\":{\"iy\",\"ih\", 'eh', 'ae', 'aa', 'ah', 'ao', 'uh', 'uw', 'ux', 'ax', 'ax-h', 'ix'},\n",
    "                             \"dipthongs\":{'ey', 'aw', 'ay', 'oy', 'ow'},\n",
    "                             \"semi-vowels\": {'l', 'el', 'r', 'w', 'y', 'er', 'axr'},\n",
    "                             \"stops\": {'b', 'd', 'g', 'p', 't', 'k', 'jh', 'ch'},\n",
    "                             \"fricatives\": {'s', 'sh', 'z', 'zh', 'f', 'th', 'v', 'dh', 'hh', 'hv'},\n",
    "                             \"nasals\": {'m', 'em', 'n', 'nx', 'ng', 'eng', 'en'},\n",
    "                             \"silence\": {'dx', 'bcl', 'dcl', 'gcl', 'pcl', 'tcl', 'kcl', 'h', 'pau', 'epi', 'q'},\n",
    "                             \"h#\": {\"h#\"}}\n",
    "plot_umap(files_searching, weighted_average_phoneme_length, manner_of_articulation_map, \"Manner of Articulation\")"
   ]
  },
  {
   "cell_type": "markdown",
   "id": "5a30ca1f",
   "metadata": {},
   "source": [
    "# Zmuv normalization"
   ]
  },
  {
   "cell_type": "code",
   "execution_count": 57,
   "id": "d81914bb",
   "metadata": {},
   "outputs": [
    {
     "data": {
      "text/plain": [
       "'\\nlook over data.\\nuse matlab to understand how the data opens up\\n\\n\\nGet mean and standard deviation of each phoneme class.\\n\\t5. Perhaps visualize/plot the average phoneme for each phoneme class.\\n\\t6. For a phoneme, normalize by class: subtract from the mean and divide by standard deviation. And time align.\\n\\t7. Visualize the normalized features.\\nLook at the difference in pattern between normalized and un-normalized features.\\n'"
      ]
     },
     "execution_count": 57,
     "metadata": {},
     "output_type": "execute_result"
    }
   ],
   "source": [
    "# Get the mean feature, the average, everything from post two weeks. \n",
    "'''\n",
    "look over data.\n",
    "use matlab to understand how the data opens up\n",
    "\n",
    "\n",
    "Get mean and standard deviation of each phoneme class.\n",
    "\t5. Perhaps visualize/plot the average phoneme for each phoneme class.\n",
    "\t6. For a phoneme, normalize by class: subtract from the mean and divide by standard deviation. And time align.\n",
    "\t7. Visualize the normalized features.\n",
    "Look at the difference in pattern between normalized and un-normalized features.\n",
    "'''"
   ]
  },
  {
   "cell_type": "markdown",
   "id": "33632506",
   "metadata": {},
   "source": [
    "## Test Zmuv normalization and visualization for one phoneme class"
   ]
  },
  {
   "cell_type": "code",
   "execution_count": null,
   "id": "d5b0b24b",
   "metadata": {},
   "outputs": [],
   "source": [
    "'''\n",
    "edit and test below. to take output from get_phonemes_from_single_file and get the phonemes needed.\n",
    "'''"
   ]
  },
  {
   "cell_type": "code",
   "execution_count": 271,
   "id": "22a85c43",
   "metadata": {},
   "outputs": [],
   "source": [
    "def get_instances_of_phoneme_from_single_file(input_filename_or_file_phoneme_features_dictionary, phoneme, intended_phoneme_feature_matrix_length=None):\n",
    "    '''\n",
    "    this returns a numpy matrix of features of a phoneme class of a particular length (padded with nans if data is less than)\n",
    "    inputs:\n",
    "        filename (str): the input file\n",
    "        phoneme (str): the phoneme class (assuming working with timit database)\n",
    "        intended_phoneme_feature_matrix_length (int): the matrix length intended, such as a weighted average of the phoneme class lengths. if the features are not up to this length, it will be padded\n",
    "        \n",
    "        returns:\n",
    "        numpy matrix of features of a phoneme class of a particular length (padded with nans if data is less than)\n",
    "        OR \n",
    "        none if phoneme does not occur in file at all\n",
    "    '''\n",
    "    if type(input_filename_or_file_phoneme_features_dictionary)==str:\n",
    "        if intended_phoneme_feature_matrix_length==None:\n",
    "            raise Exception(\"If you are inputting a file to this function, you must also give a 'intended_phoneme_feature_matrix_length' value.\")\n",
    "        phoneme_features_dict = get_phonemes_from_single_file(input_filename_or_file_phoneme_features_dictionary, intended_phoneme_feature_matrix_length)\n",
    "    else:\n",
    "        phoneme_features_dict = input_filename_or_file_phoneme_features_dictionary\n",
    "        \n",
    "    if phoneme in phoneme_features_dict:\n",
    "        return phoneme_features_dict[phoneme]\n",
    "    else:\n",
    "        return"
   ]
  },
  {
   "cell_type": "code",
   "execution_count": 272,
   "id": "a7cfbafe",
   "metadata": {},
   "outputs": [],
   "source": [
    "# testing function\n",
    "filename = 'Y:/personal/ojuba.mezisashe/timit_dp_test_extract_features/TRAIN/DR1/FCJF0/SI648.txt'\n",
    "_ = get_instances_of_phoneme_from_single_file(filename, \"h#\", 34)\n",
    "# np.array(_, dtype=\"float64\").shape"
   ]
  },
  {
   "cell_type": "code",
   "execution_count": 119,
   "id": "79c52679",
   "metadata": {},
   "outputs": [],
   "source": [
    "phoneme = \"aa\"\n",
    "average_phoneme_class_length = int(average_phoneme_lengths[phoneme])\n",
    "feature_matrix = []\n",
    "\n",
    "for file in files_searching:\n",
    "    feature_matrix.extend(get_instances_of_phoneme_from_single_file(file, phoneme, average_phoneme_class_length))\n",
    "feature_matrix = np.array(feature_matrix, dtype=\"float64\")"
   ]
  },
  {
   "cell_type": "code",
   "execution_count": 143,
   "id": "b68b64cc",
   "metadata": {},
   "outputs": [],
   "source": [
    "def zmuv_normalize_phoneme_class(phoneme_class_features_matrix):\n",
    "    '''\n",
    "    return the normalized feature class of matrix phoneme_class_features_matrix, the mean and standard deviations\n",
    "    inputs:\n",
    "        phoneme_class_features_matrix (np.array): a 3d feature matrix of various instances of a phoneme. The phonemes instances are stacked on the z (?) axis\n",
    "    returns:\n",
    "        normalized_features (np.array): the normalized feature matrix \n",
    "        phoneme_mean (np.array):  the average feature (when nan values are ignored)\n",
    "        phoneme_std (np.array):  the standard deviation (when nan values are ignored)\n",
    "    '''\n",
    "    phoneme_mean, phoneme_std = np.nanmean(feature_matrix,0),np.nanstd(feature_matrix,0)\n",
    "    normalized_features = (phoneme_class_features_matrix - phoneme_mean)/(phoneme_std)\n",
    "    \n",
    "    return normalized_features, phoneme_mean, phoneme_std"
   ]
  },
  {
   "cell_type": "code",
   "execution_count": 144,
   "id": "b8428fcf",
   "metadata": {},
   "outputs": [],
   "source": [
    "feature_matrix_normed, phoneme_mean, phoneme_std = zmuv_normalize_phoneme_class(feature_matrix)"
   ]
  },
  {
   "cell_type": "code",
   "execution_count": null,
   "id": "6c73958f",
   "metadata": {},
   "outputs": [],
   "source": [
    "'''\n",
    "\n",
    "decouple getting features rolled out from plotting umap (in function) - FINISH THIS\n",
    "    should get and save average and std? for each feature class?\n",
    "make it possible to get features normalized\n",
    "plot\n",
    "\n",
    "email dr mainsah\n",
    "\n",
    "change kevin's code in your directory to write to another file. \n",
    "extract features on whole dataset on the laptop with gpu\n",
    "\n",
    "fix changed txt files in kevin's dataset\n",
    "\n",
    "check other tasks\n",
    "'''"
   ]
  },
  {
   "cell_type": "code",
   "execution_count": 292,
   "id": "b8b80d3b",
   "metadata": {},
   "outputs": [],
   "source": [
    "# get averages and stds using the weighted total average length\n",
    "output_folder = \"average_and_std_phoneme_feature/weighted_average_total/\" ### CHANGE THIS\n",
    "for phoneme in ALL_PHONEMES:\n",
    "    for file in files_searching:\n",
    "        try:\n",
    "            feature_matrix.extend(get_instances_of_phoneme_from_single_file(file, phoneme, weighted_average_phoneme_length))\n",
    "        except:\n",
    "            pass\n",
    "    feature_matrix = np.array(feature_matrix, dtype=\"float64\")\n",
    "    feature_matrix_normed, phoneme_mean, phoneme_std = zmuv_normalize_phoneme_class(feature_matrix)\n",
    "    np.savetxt(output_folder+phoneme+\"_average.txt\", phoneme_mean)\n",
    "    np.savetxt(output_folder+phoneme+\"_std.txt\", phoneme_std)"
   ]
  },
  {
   "cell_type": "code",
   "execution_count": null,
   "id": "995a2fd0",
   "metadata": {},
   "outputs": [],
   "source": [
    "# get averages and stds using the average length per phoneme class\n",
    "output_folder = \"average_and_std_phoneme_feature/average_per_class/\" ### CHANGE THIS\n",
    "for phoneme in ALL_PHONEMES:\n",
    "    try:\n",
    "        phoneme_average_length = average_phoneme_lengths[phoneme]\n",
    "    except:\n",
    "        continue\n",
    "    for file in files_searching:\n",
    "        try:\n",
    "            feature_matrix.extend(get_instances_of_phoneme_from_single_file(file, phoneme, phoneme_average_length))\n",
    "        except:\n",
    "            pass\n",
    "    feature_matrix = np.array(feature_matrix, dtype=\"float64\")\n",
    "    feature_matrix_normed, phoneme_mean, phoneme_std = zmuv_normalize_phoneme_class(feature_matrix)\n",
    "    np.savetxt(output_folder+phoneme+\"_average.txt\", phoneme_mean)\n",
    "    np.savetxt(output_folder+phoneme+\"_std.txt\", phoneme_std)"
   ]
  },
  {
   "cell_type": "code",
   "execution_count": 295,
   "id": "7b250d77",
   "metadata": {},
   "outputs": [
    {
     "data": {
      "text/plain": [
       "['ng',\n",
       " 'pau',\n",
       " 'bcl',\n",
       " 'pcl',\n",
       " 'tcl',\n",
       " 'epi',\n",
       " 'q',\n",
       " 'dcl',\n",
       " 'h',\n",
       " 'dx',\n",
       " 'gcl',\n",
       " 'kcl',\n",
       " 'h#']"
      ]
     },
     "execution_count": 295,
     "metadata": {},
     "output_type": "execute_result"
    }
   ],
   "source": [
    "ALL_PHONEMES[49:]"
   ]
  },
  {
   "cell_type": "code",
   "execution_count": null,
   "id": "bc37c97c",
   "metadata": {},
   "outputs": [],
   "source": []
  }
 ],
 "metadata": {
  "kernelspec": {
   "display_name": "Python 3 (ipykernel)",
   "language": "python",
   "name": "python3"
  },
  "language_info": {
   "codemirror_mode": {
    "name": "ipython",
    "version": 3
   },
   "file_extension": ".py",
   "mimetype": "text/x-python",
   "name": "python",
   "nbconvert_exporter": "python",
   "pygments_lexer": "ipython3",
   "version": "3.10.9"
  }
 },
 "nbformat": 4,
 "nbformat_minor": 5
}
