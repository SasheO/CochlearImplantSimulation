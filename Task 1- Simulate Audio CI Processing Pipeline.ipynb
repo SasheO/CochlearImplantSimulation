{
 "cells": [
  {
   "cell_type": "markdown",
   "id": "51f23404",
   "metadata": {},
   "source": [
    "## Helpful links\n",
    "follow this (signal processing portion): https://app.box.com/file/1283099900531\n",
    "\n",
    "signal filtering in matlab: https://www.mathworks.com/help/dsp/ug/cochlear-implant-speech-processor.html\n",
    "\n",
    "Python toolbox: https://github.com/jabeim/AB-Generic-Python-Toolbox/blob/master/Documentation%20__draft__v0.1.docx\n",
    "\n",
    "Google research code: https://gitlab.ilabt.imec.be/ahadifar/google-research/-/tree/master/cochlear_implant\n",
    "\n",
    "python librosa library \n",
    "\n",
    "frequencies gotten from: https://ncbi.nlm.nih.gov/pmc/articles/PMC4386730/\n",
    "\n",
    "paper on mimicking the human ear https://ecs.utdallas.edu/loizou/cimplants/tutorial/introci.pdf\n",
    "\n",
    "rms energy https://www.analyticsvidhya.com/blog/2022/05/comparison-of-the-rms-energy-and-the-amplitude-envelope/\n",
    "\n",
    "construct sinusoid https://stackoverflow.com/questions/48043004/how-do-i-generate-a-sine-wave-using-python\n",
    "\n",
    "adding noise https://medium.com/analytics-vidhya/adding-noise-to-audio-clips-5d8cee24ccb8\n",
    "\n",
    "spectrogram https://www.pnsn.org/spectrograms/what-is-a-spectrogram\n",
    "\n",
    "plot spectogram https://stackoverflow.com/questions/48598994/scipy-signal-spectrogram-compared-to-matplotlib-pyplot-specgram\n",
    "\n",
    "frame (2ms) overlap https://stackoverflow.com/questions/66887965/python-audio-segmentation-with-overlapping-and-hamming-windows\n",
    "\n",
    "speech intelligibility: https://colab.research.google.com/drive/1bAnDpUUx5-BYkL3l3ukNVVnsLzEhy-ds#scrollTo=Nz7MiXRIxiEK\n",
    "\n",
    "normalize volume: https://stackoverflow.com/questions/42492246/how-to-normalize-the-volume-of-an-audio-file-in-python"
   ]
  },
  {
   "cell_type": "code",
   "execution_count": 1,
   "id": "5fb41da2",
   "metadata": {},
   "outputs": [],
   "source": [
    "import numpy as np\n",
    "import scipy.signal\n",
    "import scipy.io.wavfile\n",
    "import matplotlib.pyplot as plt\n",
    "import math"
   ]
  },
  {
   "cell_type": "code",
   "execution_count": 2,
   "id": "5c0ae3c9",
   "metadata": {},
   "outputs": [],
   "source": [
    "# frequencies gotten from: https://ncbi.nlm.nih.gov/pmc/articles/PMC4386730/\n",
    "FREQUENCIES_FOR_5_CHANNELS_TABLE_1 = [350, 607, 1053,1827,3170, 8700]\n",
    "FREQUENCIES_FOR_16_CHANNELS_TABLE_1 = [250, 416, 494, 587, 697, 828, 983, 1168, 1387, 1648, 1958, 2326, 2762, 3281, 3898, 4630, 8700]\n",
    "FREQUENCIES_FOR_6_CHANNELS_TABLE_2 = [188, 563, 1063, 1813, 2938, 4813, 7938]\n",
    "FREQUENCIES_FOR_22_CHANNELS_TABLE_2 = [188, 313, 438, 563, 688, 813, 938, 1063, 1188, 1438, 1688, 1938, 2313, 2688, 3188, 3688, 4313, 5603, 5938, 6938, 7938]"
   ]
  },
  {
   "cell_type": "code",
   "execution_count": 3,
   "id": "64fff9de",
   "metadata": {},
   "outputs": [],
   "source": [
    "wav_file = \"LL-Q1860_(eng)-Vealhurl-cosmos2.wav\"\n",
    "frequency_ranges = FREQUENCIES_FOR_6_CHANNELS_TABLE_2 ### CHANGE THIS TO which you want\n",
    "LEN_TIME_QUANTIZED_MS = 8\n",
    "OVERLAP_MS = 0"
   ]
  },
  {
   "cell_type": "code",
   "execution_count": 4,
   "id": "5e118ccb",
   "metadata": {},
   "outputs": [
    {
     "name": "stdout",
     "output_type": "stream",
     "text": [
      "(62848,)\n",
      "sample_rate: 48000 samples/sec\n"
     ]
    }
   ],
   "source": [
    "# Load sample data from a WAV file\n",
    "sample_rate, data = scipy.io.wavfile.read(wav_file)\n",
    "times = np.arange(len(data))/sample_rate\n",
    "# data = sum(data.T) # if data is a 2d array (with two channels) \n",
    "print(data.shape)\n",
    "\n",
    "print(\"sample_rate:\", str(sample_rate) + \" samples/sec\")"
   ]
  },
  {
   "cell_type": "code",
   "execution_count": null,
   "id": "d65d80f5",
   "metadata": {
    "scrolled": true
   },
   "outputs": [],
   "source": [
    "spectrogram_data = scipy.signal.spectrogram(data, sample_rate)\n",
    "\n",
    "f, t, Sxx = scipy.signal.spectrogram(data, sample_rate)\n",
    "plt.pcolormesh(t, f, 10*np.log10(Sxx))\n",
    "plt.ylabel('Frequency [Hz]')\n",
    "plt.xlabel('Time [sec]')\n",
    "plt.show()"
   ]
  },
  {
   "cell_type": "code",
   "execution_count": null,
   "id": "983a139c",
   "metadata": {
    "scrolled": true
   },
   "outputs": [],
   "source": [
    "data.shape"
   ]
  },
  {
   "cell_type": "code",
   "execution_count": null,
   "id": "51e10282",
   "metadata": {},
   "outputs": [],
   "source": [
    "def bandpass(data: np.ndarray, edges: list[float], sample_rate: float, poles: int = 5):\n",
    "    sos = scipy.signal.butter(poles, edges, 'bandpass', fs=sample_rate, output='sos')\n",
    "    filtered_data = scipy.signal.sosfiltfilt(sos, data)\n",
    "    return filtered_data"
   ]
  },
  {
   "cell_type": "code",
   "execution_count": null,
   "id": "98466f09",
   "metadata": {},
   "outputs": [],
   "source": [
    "bandpassed_frequencies_low_to_high = []\n",
    "\n",
    "for indx in range(0, len(frequency_ranges)-1):\n",
    "    low, high = frequency_ranges[indx], frequency_ranges[indx+1]\n",
    "    bandpassed_frequencies_low_to_high.append(bandpass(data, [low, high], sample_rate))"
   ]
  },
  {
   "cell_type": "code",
   "execution_count": null,
   "id": "08af196e",
   "metadata": {},
   "outputs": [],
   "source": [
    "bandpassed_frequencies_low_to_high"
   ]
  },
  {
   "cell_type": "code",
   "execution_count": null,
   "id": "2cce81cc",
   "metadata": {
    "scrolled": true
   },
   "outputs": [],
   "source": [
    "# display result Bandpassed\n",
    "fig, axes = plt.subplots(len(bandpassed_frequencies_low_to_high)+1, figsize=(10, 30))\n",
    "axes[0].set_title(\"Original Signal\")\n",
    "axes[0].grid(alpha=.5, ls='--')\n",
    "axes[0].plot(times, data) # plot entire graph\n",
    "axes[0].set_ylabel('amplitude')\n",
    "# axes[0].set_xbound(lower=0.4, upper=0.42) # show a 20 ms snippet\n",
    "\n",
    "# ax1.margins(.1, .1)\n",
    "indx = 0\n",
    "for ax in axes[1:]:\n",
    "    low,high = frequency_ranges[indx], frequency_ranges[indx+1]\n",
    "    ax.set_title(f\"Band-Pass Filter ({low}-{high} kHz)\")\n",
    "    ax.grid(alpha=.5, ls='--')\n",
    "    ax.plot(times, bandpassed_frequencies_low_to_high[indx])\n",
    "    ax.set_ylabel('amplitude')\n",
    "#     ax.set_xbound(lower=0.4, upper=0.42) # show a 20 ms snippet\n",
    "#     ax.margins(.1, .1)\n",
    "    indx += 1\n",
    "plt.tight_layout()\n",
    "\n",
    "plt.show()"
   ]
  },
  {
   "cell_type": "code",
   "execution_count": null,
   "id": "2ff3176f",
   "metadata": {},
   "outputs": [],
   "source": [
    "enveloped_frequencies_low_to_high = []\n",
    "for indx in range(len(bandpassed_frequencies_low_to_high)):\n",
    "    enveloped_frequencies_low_to_high.append(np.abs(bandpassed_frequencies_low_to_high[indx]))"
   ]
  },
  {
   "cell_type": "code",
   "execution_count": null,
   "id": "633c725c",
   "metadata": {},
   "outputs": [],
   "source": [
    "# display result Rectified\n",
    "fig, axes = plt.subplots(len(enveloped_frequencies_low_to_high)+1, figsize=(10, 30))\n",
    "axes[0].set_title(\"Original Signal\")\n",
    "axes[0].grid(alpha=.5, ls='--')\n",
    "axes[0].plot(times, data)\n",
    "axes[0].set_ylabel('amplitude')\n",
    "# axes[0].set_xbound(lower=0.4, upper=0.42) # show a 20 ms snippet\n",
    "# ax1.margins(.1, .1)\n",
    "indx = 0\n",
    "for ax in axes[1:]:\n",
    "    low,high = frequency_ranges[indx], frequency_ranges[indx+1]\n",
    "    ax.set_title(f\"Rectified (envelope) ({low}-{high} kHz)\")\n",
    "    ax.grid(alpha=.5, ls='--')\n",
    "    ax.plot(times, enveloped_frequencies_low_to_high[indx])\n",
    "    ax.set_ylabel('amplitude')\n",
    "#     ax.set_xbound(lower=0.4, upper=0.42) # show a 20 ms snippet\n",
    "#     ax.margins(.1, .1)\n",
    "    indx += 1\n",
    "plt.tight_layout()\n",
    "plt.show()\n",
    "\n",
    "### DO NOT JUST GET THE POSITIVE AMPLITUDE. DO \"ENVELOPE EXTRACTION\""
   ]
  },
  {
   "cell_type": "code",
   "execution_count": null,
   "id": "cb427b3d",
   "metadata": {
    "scrolled": true
   },
   "outputs": [],
   "source": [
    "# got rms energy with overlap, LEN_TIME_QUANTIZED_MS=8ms i.e. if overlap is 2ms, calculate rms energy for 8 ms at 0s, 2s, 4s, 6s, 8s, ...\n",
    "# get rms every 8 ms, construct a sinusoid with amplitude = rms energy and frequency = average of the bandpass filter\n",
    "# sample rate = 48000/s or 384 per 8 ms\n",
    "# TIP: make sure to use a zero phase filter as a parameter in the bandpass filter\n",
    "if OVERLAP_MS == 0 or OVERLAP_MS > LEN_TIME_QUANTIZED_MS:\n",
    "    OVERLAP_MS = LEN_TIME_QUANTIZED_MS\n",
    "\n",
    "rms_energy_values = []\n",
    "\n",
    "frame_step = int((sample_rate/1000)*LEN_TIME_QUANTIZED_MS) # the number of values equal to LEN_TIME_QUANTIZED_MS milliseconds. this should give an integer\n",
    "overlap_step = int((sample_rate/1000)*OVERLAP_MS) # the number of values equal to the millisecond overlap\n",
    "\n",
    "for frequencies in enveloped_frequencies_low_to_high:\n",
    "    rms_list = []\n",
    "    indx = 0\n",
    "    final_indx = indx + frame_step\n",
    "    while final_indx < frequencies.shape[0]:\n",
    "        rms_list.append(math.sqrt(np.mean(frequencies[indx:final_indx]**2)))\n",
    "        indx += overlap_step\n",
    "        final_indx += overlap_step\n",
    "    final_frame_length = len(frequencies[indx:])\n",
    "    rms_list.append(math.sqrt(np.mean(frequencies[indx:]**2)))\n",
    "    rms_energy_values.append(np.array(rms_list))"
   ]
  },
  {
   "cell_type": "code",
   "execution_count": null,
   "id": "6616ddfe",
   "metadata": {
    "scrolled": false
   },
   "outputs": [],
   "source": [
    "len(rms_energy_values[0])"
   ]
  },
  {
   "cell_type": "code",
   "execution_count": null,
   "id": "f2a4979d",
   "metadata": {
    "scrolled": false
   },
   "outputs": [],
   "source": [
    "rms_energy_values\n",
    "enveloped_frequencies_low_to_high"
   ]
  },
  {
   "cell_type": "code",
   "execution_count": null,
   "id": "6dc8a13e",
   "metadata": {},
   "outputs": [],
   "source": [
    "'''\n",
    "the rms energy values will be the amplitude of the sinusoid over 8ms\n",
    "the frequency of the 8ms should be the average frequency in that range.\n",
    "'''\n",
    "\n",
    "def create_sinusoid(average_frequency, amplitude, t):\n",
    "    '''\n",
    "    average_frequency (int): should be the average frequency of that channel\n",
    "    t (int): should be the time of the generated sound in seconds\n",
    "    sample_rate (int): should be the sample rate of the audio file\n",
    "    sample_rate (float): should be the amplitude of the sound, in this case the rms energy value\n",
    "    ''' \n",
    "    f = average_frequency\n",
    "\n",
    "    samples = np.linspace(0, t, int(sample_rate*t), endpoint=False)\n",
    "    print('samples:',samples)\n",
    "    print(len(samples))\n",
    "\n",
    "    signal = np.sin(2 * np.pi * f * samples)\n",
    "    print(\"signal:\", signal)\n",
    "    print(len(signal))\n",
    "\n",
    "    signal *= amplitude # ?? should multiply by the rms energy\n",
    "\n",
    "    return signal"
   ]
  },
  {
   "cell_type": "code",
   "execution_count": null,
   "id": "c3040180",
   "metadata": {},
   "outputs": [],
   "source": [
    "signal = []\n",
    "\n",
    "for indx in range(len(frequency_ranges)-1):\n",
    "    output = []\n",
    "    min_frequency = frequency_ranges[indx]\n",
    "    max_frequency = frequency_ranges[indx+1]\n",
    "    average_frequency = (min_frequency+max_frequency)/2\n",
    "    ## TODO HERE: get every 8 seconds and its amplitude\n",
    "    for amplitude in rms_energy_values[indx][:-1]: # do this until the final frame which may not be the max frame length\n",
    "        output.extend(create_sinusoid(average_frequency, amplitude, OVERLAP_MS/1000))\n",
    "    output.extend(create_sinusoid(average_frequency, amplitude, (final_frame_length/frame_step)*LEN_TIME_QUANTIZED_MS/1000)) # process the final frame which may not be the max frame length \n",
    "    signal.append(np.array(output))\n",
    "    "
   ]
  },
  {
   "cell_type": "code",
   "execution_count": null,
   "id": "26c97fbf",
   "metadata": {
    "scrolled": true
   },
   "outputs": [],
   "source": [
    "times_reconstructed = np.arange(len(signal[0]))/sample_rate\n",
    "fig, axes = plt.subplots(len(signal)+1, figsize=(10, 30))\n",
    "axes[0].set_title(\"Original Signal\")\n",
    "axes[0].grid(alpha=.5, ls='--')\n",
    "axes[0].plot(times, data)\n",
    "axes[0].set_ylabel('amplitude')\n",
    "# axes[0].set_xbound(lower=0.4, upper=0.42) # show a 20 ms snippet\n",
    "# ax1.margins(.1, .1)\n",
    "indx = 0\n",
    "for ax in axes[1:]:\n",
    "    low,high = frequency_ranges[indx], frequency_ranges[indx+1]\n",
    "    ax.set_title(f\"Reconstructed Signal ({low}-{high} kHz)\")\n",
    "    ax.grid(alpha=.5, ls='--')\n",
    "    ax.plot(times_reconstructed, signal[indx])\n",
    "    ax.set_ylabel('amplitude')\n",
    "#     ax.set_xbound(lower=0.4, upper=0.42) # show a 20 ms snippet\n",
    "#     ax.margins(.1, .1)\n",
    "    indx += 1\n",
    "plt.tight_layout()\n",
    "plt.show()\n",
    "\n",
    "### DO NOT JUST GET THE POSITIVE AMPLITUDE. DO \"ENVELOPE EXTRACTION\""
   ]
  },
  {
   "cell_type": "code",
   "execution_count": null,
   "id": "ab55cfe2",
   "metadata": {
    "scrolled": true
   },
   "outputs": [],
   "source": [
    "plt.plot(np.arange(len(signal[0]))/sample_rate, signal[0])\n",
    "# plt.xlim(0.4, 0.42) # show a 20 ms snippet\n",
    "plt.show()"
   ]
  },
  {
   "cell_type": "code",
   "execution_count": null,
   "id": "0e9b922f",
   "metadata": {
    "scrolled": false
   },
   "outputs": [],
   "source": [
    "signal_wav = sum(np.int16(signal))\n",
    "print(signal_wav)\n",
    "scipy.io.wavfile.write(\"reconstructed_sounds/\"+input(\"Name your audio: \")+\"-\"+input(\"How many channels?\")+\"channels_\"+input(\"How many milliseconds of overlap? \")+\"millisecondoverlap.wav\", sample_rate, signal_wav) # have to transpose signal and combine all channels by adding"
   ]
  },
  {
   "cell_type": "code",
   "execution_count": null,
   "id": "b7a47d30",
   "metadata": {},
   "outputs": [],
   "source": [
    "# plot all graphs together\n",
    "times_reconstructed = np.arange(len(signal))/sample_rate\n",
    "fig, axes = plt.subplots(len(signal), 3, figsize=(10, 15))\n",
    "\n",
    "columns = [(bandpassed_frequencies_low_to_high, \"Band Pass\"), (enveloped_frequencies_low_to_high, \"Rectified (envelope)\"), (signal, \"Signal\")]\n",
    "\n",
    "for indx in range(len(signal)):\n",
    "    for column_indx in range(3):\n",
    "        low,high = frequency_ranges[indx], frequency_ranges[indx+1]\n",
    "        axes[indx, column_indx].set_title(f\"{columns[column_indx][1]} ({low}-{high} kHz)\")\n",
    "        axes[indx, column_indx].grid(alpha=.5, ls='--')\n",
    "#         print(columns[column_indx][0][indx])\n",
    "#         print(len(columns[column_indx][0][indx]))\n",
    "#         print(len(times_reconstructed))\n",
    "#         break\n",
    "        axes[indx, column_indx].plot(times, columns[column_indx][0][indx])\n",
    "        axes[indx, column_indx].set_ylabel('amplitude')\n",
    "#     break\n",
    "plt.tight_layout()\n",
    "plt.show()\n",
    "\n",
    "### DO NOT JUST GET THE POSITIVE AMPLITUDE. DO \"ENVELOPE EXTRACTION\""
   ]
  },
  {
   "cell_type": "code",
   "execution_count": null,
   "id": "ba6ba648",
   "metadata": {},
   "outputs": [],
   "source": [
    "# plot one frequency range\n",
    "times_reconstructed = np.arange(len(signal))/sample_rate\n",
    "fig, axes = plt.subplots(1, 3, figsize=(10, 3))\n",
    "\n",
    "columns = [(bandpassed_frequencies_low_to_high, \"Band Pass\"), (enveloped_frequencies_low_to_high, \"Rectified (envelope)\"), (signal, \"Signal\")]\n",
    "\n",
    "for indx in range(len(signal)):\n",
    "    for column_indx in range(3):\n",
    "        low,high = frequency_ranges[indx], frequency_ranges[indx+1]\n",
    "        axes[column_indx].set_title(f\"{columns[column_indx][1]} ({low}-{high} kHz)\")\n",
    "        axes[column_indx].grid(alpha=.5, ls='--')\n",
    "#         print(columns[column_indx][0][indx])\n",
    "#         print(len(columns[column_indx][0][indx]))\n",
    "#         print(len(times_reconstructed))\n",
    "#         break\n",
    "        axes[column_indx].plot(times, columns[column_indx][0][indx])\n",
    "        axes[column_indx].set_ylabel('amplitude')\n",
    "    break\n",
    "plt.tight_layout()\n",
    "plt.show()\n",
    "\n",
    "### DO NOT JUST GET THE POSITIVE AMPLITUDE. DO \"ENVELOPE EXTRACTION\""
   ]
  },
  {
   "cell_type": "code",
   "execution_count": null,
   "id": "de48f941",
   "metadata": {},
   "outputs": [],
   "source": [
    "# add 2ms overlap\n",
    "np.average(signal[0])"
   ]
  },
  {
   "cell_type": "code",
   "execution_count": null,
   "id": "77f074e0",
   "metadata": {},
   "outputs": [],
   "source": [
    "np.average(bandpassed_frequencies_low_to_high[0])"
   ]
  },
  {
   "cell_type": "code",
   "execution_count": null,
   "id": "36c1760f",
   "metadata": {},
   "outputs": [],
   "source": [
    "signal[0]"
   ]
  },
  {
   "cell_type": "code",
   "execution_count": null,
   "id": "8d9d48c7",
   "metadata": {},
   "outputs": [],
   "source": [
    "bandpassed_frequencies_low_to_high[0]"
   ]
  },
  {
   "cell_type": "code",
   "execution_count": null,
   "id": "b74f1b09",
   "metadata": {},
   "outputs": [],
   "source": [
    "np.average(signal[0]-bandpassed_frequencies_low_to_high[0])"
   ]
  },
  {
   "cell_type": "code",
   "execution_count": null,
   "id": "a6d89eac",
   "metadata": {},
   "outputs": [],
   "source": [
    "signal[0]-bandpassed_frequencies_low_to_high[0]"
   ]
  },
  {
   "cell_type": "code",
   "execution_count": null,
   "id": "cee2d67f",
   "metadata": {},
   "outputs": [],
   "source": [
    "\n",
    "scipy.io.wavfile.write(\"noised_sound1.wav\", sample_rate, 0.25*noise_data[:len(data)]+data) # have to transpose signal and combine all channels by adding"
   ]
  },
  {
   "cell_type": "markdown",
   "id": "33d38ca9",
   "metadata": {},
   "source": [
    "# Comparing Speech Intelligibility with varying SNR, Noise, Reverb"
   ]
  },
  {
   "cell_type": "code",
   "execution_count": null,
   "id": "31ee36b6",
   "metadata": {
    "scrolled": true
   },
   "outputs": [],
   "source": [
    "type(np.int16(noise_data*0.85)[0])"
   ]
  },
  {
   "cell_type": "code",
   "execution_count": null,
   "id": "e034fc06",
   "metadata": {},
   "outputs": [],
   "source": [
    "\n",
    "data = (noise_data*0.75)[:len(data)]+data"
   ]
  },
  {
   "cell_type": "code",
   "execution_count": 11,
   "id": "e81ab931",
   "metadata": {},
   "outputs": [
    {
     "data": {
      "text/plain": [
       "<_io.BufferedRandom name='./output1.wav'>"
      ]
     },
     "execution_count": 11,
     "metadata": {},
     "output_type": "execute_result"
    }
   ],
   "source": [
    "from pydub import AudioSegment, effects  \n",
    "rawsound = AudioSegment.from_file(noise_file, \"wav\")  \n",
    "normalizedsound = effects.normalize(rawsound)  \n",
    "normalizedsound.export(\"./output1.wav\", format=\"wav\")"
   ]
  },
  {
   "cell_type": "code",
   "execution_count": null,
   "id": "645ea804",
   "metadata": {},
   "outputs": [],
   "source": [
    "# learn about this formula\n",
    "def signaltonoise(sound_data, axis=0, ddof=0):\n",
    "    sound_data = np.asanyarray(sound_data)\n",
    "    m = sound_data.mean(axis)\n",
    "    sd = sound_data.std(axis=axis, ddof=ddof)\n",
    "    return np.where(sd == 0, 0, m/sd)"
   ]
  },
  {
   "cell_type": "code",
   "execution_count": null,
   "id": "f35c0758",
   "metadata": {},
   "outputs": [],
   "source": [
    "# noise\n",
    "# Load sample data from a WAV file\n",
    "noise_file = \"noise/train1-54065-A-45.wav\"\n",
    "\n",
    "noise_sample_rate, noise_data = scipy.io.wavfile.read(noise_file)\n",
    "noised_times = np.arange(len(noise_data))/noise_sample_rate\n",
    "# data = sum(data.T) # if data is a 2d array (with two channels) \n",
    "print(noise_data.shape)\n",
    "\n",
    "print(\"sample_rate:\", str(noise_sample_rate) + \" samples/sec\")"
   ]
  }
 ],
 "metadata": {
  "kernelspec": {
   "display_name": "Python 3 (ipykernel)",
   "language": "python",
   "name": "python3"
  },
  "language_info": {
   "codemirror_mode": {
    "name": "ipython",
    "version": 3
   },
   "file_extension": ".py",
   "mimetype": "text/x-python",
   "name": "python",
   "nbconvert_exporter": "python",
   "pygments_lexer": "ipython3",
   "version": "3.10.9"
  }
 },
 "nbformat": 4,
 "nbformat_minor": 5
}
